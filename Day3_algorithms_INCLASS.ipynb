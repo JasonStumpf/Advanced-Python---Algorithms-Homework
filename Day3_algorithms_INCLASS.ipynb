{
 "cells": [
  {
   "cell_type": "markdown",
   "metadata": {},
   "source": [
    "# Algorithms, Binary Search & Sorting"
   ]
  },
  {
   "cell_type": "markdown",
   "metadata": {},
   "source": [
    "## Tasks Today:\n",
    " \n",
    "1) <b>In-Place Algorithms</b> <br>\n",
    " &nbsp;&nbsp;&nbsp;&nbsp; a) Syntax <br>\n",
    " &nbsp;&nbsp;&nbsp;&nbsp; a) Out of Place Algorithm <br>\n",
    " &nbsp;&nbsp;&nbsp;&nbsp; b) In-Class Exercise #1 <br>\n",
    "2) <b>Two Pointers</b> <br>\n",
    "3) <b>Sorting Algos</b> <br>\n",
    " &nbsp;&nbsp;&nbsp;&nbsp; a) Video on Algorithms <br>\n",
    " &nbsp;&nbsp;&nbsp;&nbsp; b) How it Works <br>\n",
    "4) <b>Exercises</b> <br>\n",
    " &nbsp;&nbsp;&nbsp;&nbsp; a) Exercise #1 - Reverse a List in Place Using an In-Place Algorithm <br>\n",
    " &nbsp;&nbsp;&nbsp;&nbsp; b) Exercise #2 - Find Distinct Words <br>\n",
    " &nbsp;&nbsp;&nbsp;&nbsp; c) Exercise #3 - Write a program to implement a Linear Search Algorithm. <br>"
   ]
  },
  {
   "cell_type": "markdown",
   "metadata": {},
   "source": [
    "## In-Place Algorithms"
   ]
  },
  {
   "cell_type": "markdown",
   "metadata": {},
   "source": [
    "#### Syntax"
   ]
  },
  {
   "cell_type": "code",
   "execution_count": 14,
   "metadata": {},
   "outputs": [
    {
     "name": "stdout",
     "output_type": "stream",
     "text": [
      "[1, 2, 3, 4]\n",
      "[4, 2, 3, 1]\n"
     ]
    }
   ],
   "source": [
    "#swap algo\n",
    "\n",
    "num_list = [1, 2, 3, 4]\n",
    "#num_list[0], num_list[1] = num_list[1], num_list[0] JUST FOR  VISUALIZATION!\n",
    "\n",
    "def swappie(list_nums, x, y):\n",
    "    #temp_x = x\n",
    "    #temp_y = y\n",
    "    #list_nums[x] = temp_y\n",
    "    #list_nums[y] = temp_x\n",
    "    list_nums[x], list_nums[y] = list_nums[y], list_nums[x]\n",
    "    \n",
    "print(num_list)\n",
    "swappie(num_list, 0, 3)\n",
    "print(num_list)\n"
   ]
  },
  {
   "cell_type": "markdown",
   "metadata": {},
   "source": [
    "#### Out of Place Algorithm"
   ]
  },
  {
   "cell_type": "code",
   "execution_count": 5,
   "metadata": {},
   "outputs": [
    {
     "name": "stdout",
     "output_type": "stream",
     "text": [
      "[1, 3, 2, 4]\n",
      "[1, 2, 3, 4]\n"
     ]
    }
   ],
   "source": [
    "def swappie2(list_nums, x, y):\n",
    "    copy = list_nums[:]\n",
    "    copy[x], copy[y] = copy[y], copy[x]\n",
    "    return copy\n",
    "\n",
    "num_list2 = [1, 2, 3, 4]\n",
    "\n",
    "print(swappie2(num_list2, 1, 2))\n",
    "print(num_list2)"
   ]
  },
  {
   "cell_type": "markdown",
   "metadata": {},
   "source": [
    "#### In-Class Exercise #1 <br>\n",
    "<p>Write a function that takes in four arguments (list, index1, index2, index3), and swaps those three positions in the list passed in.</p>"
   ]
  },
  {
   "cell_type": "code",
   "execution_count": 21,
   "metadata": {},
   "outputs": [
    {
     "name": "stdout",
     "output_type": "stream",
     "text": [
      "[10, 4, 3, 8, 4, 2, 6]\n"
     ]
    },
    {
     "data": {
      "text/plain": [
       "[6, 4, 3, 10, 4, 2, 8]"
      ]
     },
     "execution_count": 21,
     "metadata": {},
     "output_type": "execute_result"
    }
   ],
   "source": [
    "l_1 = [10, 4, 3, 8, 4, 2, 6]\n",
    "\n",
    "def swappie3(list_one, index1, index2, index3):\n",
    "    list_one[index1], list_one[index2], list_one[index3] = list_one[index3], list_one[index1], list_one[index2]\n",
    "    return list_one\n",
    "    \n",
    "print(l_1)   \n",
    "swappie3(l_1, 0, 3, 6)"
   ]
  },
  {
   "cell_type": "markdown",
   "metadata": {},
   "source": [
    "## Two Pointers"
   ]
  },
  {
   "cell_type": "markdown",
   "metadata": {},
   "source": [
    "#### Syntax"
   ]
  },
  {
   "cell_type": "code",
   "execution_count": 22,
   "metadata": {},
   "outputs": [
    {
     "name": "stdout",
     "output_type": "stream",
     "text": [
      "[10, 4, 3, 8, 4, 2, 6]\n",
      "left=0 and  right=6\n",
      "left=1 and  right=5\n",
      "left=2 and  right=4\n"
     ]
    },
    {
     "data": {
      "text/plain": [
       "[6, 2, 4, 8, 3, 4, 10]"
      ]
     },
     "execution_count": 22,
     "metadata": {},
     "output_type": "execute_result"
    }
   ],
   "source": [
    "l_3 = [10, 4, 3, 8, 4, 2, 6]\n",
    "def swappie4(list_nums, x, y):\n",
    "    list_nums[x], list_nums[y] = list_nums[y], list_nums[x]\n",
    "    \n",
    "def twoPointer(alist):\n",
    "    left = 0\n",
    "    right = len(alist) - 1\n",
    "    while left < right:\n",
    "        print(f\"left={left} and  right={right}\")\n",
    "        alist[left], alist[right] = alist[right], alist[left]\n",
    "        left += 1\n",
    "        right -= 1\n",
    "    return alist\n",
    "print(l_3)\n",
    "twoPointer(l_3)\n"
   ]
  },
  {
   "cell_type": "markdown",
   "metadata": {},
   "source": [
    "#### Algorithm videos and visualization helpers <br>\n",
    "<p>Watch the videos about algorithms.</p>\n",
    "\n",
    "https://www.youtube.com/watch?v=Q9HjeFD62Uk\n",
    "\n",
    "https://www.youtube.com/watch?v=kPRA0W1kECg\n",
    "\n",
    "https://www.youtube.com/watch?v=ZZuD6iUe3Pc\n",
    "\n",
    "<p>Check out resources:</p>\n",
    "\n",
    "https://www.hackerearth.com/practice/algorithms/sorting/bubble-sort/visualize/\n",
    "\n",
    "https://www.bigocheatsheet.com/"
   ]
  },
  {
   "cell_type": "markdown",
   "metadata": {},
   "source": [
    "# Sorting Algorithms"
   ]
  },
  {
   "cell_type": "markdown",
   "metadata": {},
   "source": [
    "#### Bubble Sort\n",
    "\n",
    "Worst Case: O(n^2) Time - O(1) Space"
   ]
  },
  {
   "cell_type": "code",
   "execution_count": 28,
   "metadata": {},
   "outputs": [
    {
     "name": "stdout",
     "output_type": "stream",
     "text": [
      "Untoched list1 - [88, 654, 45, 987, 21, 2, 45, 871]\n",
      "Untoched list2 - [4, 894, 1, 5454, 654, 8000, 241]\n",
      "count = 0\n",
      "J = 0\n",
      "J = 1\n",
      "J = 2\n",
      "J = 3\n",
      "J = 4\n",
      "J = 5\n",
      "J = 6\n",
      "count = 1\n",
      "J = 0\n",
      "J = 1\n",
      "J = 2\n",
      "J = 3\n",
      "J = 4\n",
      "J = 5\n",
      "J = 6\n",
      "count = 2\n",
      "J = 0\n",
      "J = 1\n",
      "J = 2\n",
      "J = 3\n",
      "J = 4\n",
      "J = 5\n",
      "J = 6\n",
      "count = 3\n",
      "J = 0\n",
      "J = 1\n",
      "J = 2\n",
      "J = 3\n",
      "J = 4\n",
      "J = 5\n",
      "J = 6\n",
      "count = 4\n",
      "J = 0\n",
      "J = 1\n",
      "J = 2\n",
      "J = 3\n",
      "J = 4\n",
      "J = 5\n",
      "J = 6\n",
      "count = 5\n",
      "J = 0\n",
      "J = 1\n",
      "J = 2\n",
      "J = 3\n",
      "J = 4\n",
      "J = 5\n",
      "J = 6\n",
      "count = 6\n",
      "J = 0\n",
      "J = 1\n",
      "J = 2\n",
      "J = 3\n",
      "J = 4\n",
      "J = 5\n",
      "J = 6\n",
      "count = 7\n",
      "J = 0\n",
      "J = 1\n",
      "J = 2\n",
      "J = 3\n",
      "J = 4\n",
      "J = 5\n",
      "J = 6\n",
      "list1 after - [2, 21, 45, 45, 88, 654, 871, 987]\n",
      "list2 after - [1, 4, 241, 654, 894, 5454, 8000]\n"
     ]
    }
   ],
   "source": [
    "def swap(list_nums, x, y):\n",
    "    list_nums[x], list_nums[y] = list_nums[y], list_nums[x]\n",
    "    \n",
    "def bubbSort(arr):\n",
    "    count = 0\n",
    "    for i in range(len(arr)):\n",
    "        print(f\"count = {count}\")\n",
    "        for j in range(len(arr) - 1):\n",
    "            print(f\"J = {j}\")\n",
    "            if arr[j] > arr[j+1]:\n",
    "                swap(arr, j, j+1)\n",
    "        count += 1\n",
    "        \n",
    "def betterBubbSort(arr):\n",
    "    isSorted = False\n",
    "    count = 0\n",
    "    while not isSorted:\n",
    "        isSorted = True\n",
    "        for i in range(len(arr) - 1):\n",
    "            print(f\"I={i}\")\n",
    "            if arr[i] > arr[i + 1]:\n",
    "                swap(arr, i, i + 1)\n",
    "                isSorted = False\n",
    "    return arr\n",
    "\n",
    "list1 = [88, 654, 45, 987, 21, 2, 45, 871]\n",
    "list2 = [4, 894, 1, 5454, 654, 8000, 241]\n",
    "\n",
    "print(f\"list1 before- {list1}\")\n",
    "print(f\"list2 before- {list2}\")\n",
    "\n",
    "bubbSort(list1)\n",
    "betterBubbSort(list2)\n",
    "\n",
    "print(f\"list1 after - {list1}\")\n",
    "print(f\"list2 after - {list2}\")"
   ]
  },
  {
   "cell_type": "markdown",
   "metadata": {},
   "source": [
    "##### Insertion Sort\n",
    "\n",
    "Worst Case: O(n^2) time - O(1)space"
   ]
  },
  {
   "cell_type": "code",
   "execution_count": 30,
   "metadata": {},
   "outputs": [
    {
     "name": "stdout",
     "output_type": "stream",
     "text": [
      "Untoched - [88, 654, 45, 987, 21, 2, 45, 871]\n",
      "After - [2, 21, 45, 45, 88, 654, 871, 987]\n"
     ]
    }
   ],
   "source": [
    "def swap2(list_nums, x, y):\n",
    "    list_nums[x], list_nums[y] = list_nums[y], list_nums[x]\n",
    "    \n",
    "def insSort(arr):\n",
    "    for i in range(len(arr)):\n",
    "        j = i\n",
    "        while j > 0 and arr[j] < arr[j-1]:\n",
    "            swap2(arr, j, j-1)\n",
    "            j -= 1\n",
    "list3 = [88, 654, 45, 987, 21, 2, 45, 871]            \n",
    "print(f\"Untoched - {list3}\")\n",
    "\n",
    "insSort(list3)\n",
    "\n",
    "print(f\"After - {list3}\")"
   ]
  },
  {
   "cell_type": "markdown",
   "metadata": {},
   "source": [
    "## Merge Sort"
   ]
  },
  {
   "cell_type": "markdown",
   "metadata": {},
   "source": [
    "#### How it Works"
   ]
  },
  {
   "cell_type": "code",
   "execution_count": 36,
   "metadata": {},
   "outputs": [],
   "source": [
    "#main concepts --> 3 pointers:\n",
    "#    right, left, main\n",
    "#        Also splitting behavior indicative of logarithmic time complexity\n",
    "\n",
    "#Four main steps!\n",
    "#1 - Split everything And keep that going until we can't split any farther\n",
    "#2 - From left to right, start merging groups together\n",
    "#3 - While merging. .  . Make sure we are orrectly palcing each item In the merged group\n",
    "#4 - repeat until done\n",
    "\n",
    "def mergeSort(alist):\n",
    "    \n",
    "    print(f\"Spliting, Spliting, Spliting. . .\", alist)\n",
    "# Step 1: divide\n",
    "    if len(alist) > 1:\n",
    "        mid = len(alist)//2\n",
    "        lefthalf = alist[:mid]\n",
    "        righthalf = alist[mid:]\n",
    "        \n",
    "        # we are going to make a recursive call in order to get the bottom\n",
    "        mergeSort(lefthalf)\n",
    "        mergeSort(righthalf)\n",
    "        \n",
    "        # time to make our pointers\n",
    "        i, j, k = 0, 0, 0\n",
    "        \n",
    "# Step 2 - compare!\n",
    "        while i < len(lefthalf) and j < len(righthalf):\n",
    "            if lefthalf [i] < righthalf[j]:\n",
    "                alist[k] = lefthalf[i]\n",
    "                i += 1\n",
    "            else:\n",
    "                alist[k] = righthalf[j]\n",
    "                j += 1    \n",
    "            k += 1\n",
    "    \n",
    "# Step 3 - placement matters!\n",
    "        while i < len(lefthalf):\n",
    "            alist[k] = lefthalf[i]\n",
    "            i += 1\n",
    "            k += 1\n",
    "            \n",
    "        while j < len(righthalf):\n",
    "            alist[k] = righthalf[j]\n",
    "            j += 1\n",
    "            k += 1\n",
    "            \n",
    "        print(f\"Merging!: {alist}\")"
   ]
  },
  {
   "cell_type": "code",
   "execution_count": 20,
   "metadata": {},
   "outputs": [
    {
     "name": "stdout",
     "output_type": "stream",
     "text": [
      "[88, 654, 45, 987, 21, 2, 45, 871, 4, 894, 1, 5454, 654, 8000, 241, 69]\n",
      "[88, 654, 45, 987, 21, 2, 45, 871, 4, 894, 1, 5454, 654, 8000, 241, 69]\n"
     ]
    }
   ],
   "source": [
    "biglist = [88, 654, 45, 987, 21, 2, 45, 871, 4, 894, 1, 5454, 654, 8000, 241, 69]\n",
    "print(biglist)\n",
    "#mergeSort(biglist)\n",
    "print(biglist)"
   ]
  },
  {
   "cell_type": "markdown",
   "metadata": {},
   "source": [
    "# Binary Search\n",
    "\n",
    "The Binary Search algorithm works by finding the number in the middle of a given array and comparing it to the target. Given that the array is sorted\n",
    "\n",
    "* The worst case run time for this algorithm is `O(log(n))`"
   ]
  },
  {
   "cell_type": "code",
   "execution_count": 21,
   "metadata": {},
   "outputs": [
    {
     "name": "stdout",
     "output_type": "stream",
     "text": [
      "[88, 654, 45, 987, 21, 2, 45, 871, 4, 894, 1, 5454, 654, 8000, 241, 69]\n"
     ]
    }
   ],
   "source": [
    "print(biglist)"
   ]
  },
  {
   "cell_type": "code",
   "execution_count": 24,
   "metadata": {},
   "outputs": [
    {
     "data": {
      "text/plain": [
       "'your target is not in the list!'"
      ]
     },
     "execution_count": 24,
     "metadata": {},
     "output_type": "execute_result"
    }
   ],
   "source": [
    "def binSearch(alist, target):\n",
    "    left = 0\n",
    "    right = len(alist)\n",
    "    while left <= right:\n",
    "        mid = (left + right)//2\n",
    "        potentialMatch = alist[mid]\n",
    "        if target == potentialMatch:\n",
    "            return f\"Match found at index {mid}\"\n",
    "        elif target < potentialMatch:\n",
    "            right = mid - 1\n",
    "        elif target > potentialMatch:\n",
    "            left = mid + 1\n",
    "    return f\"your target is not in the list!\"\n",
    "binSearch(biglist, 69)\n",
    "        "
   ]
  },
  {
   "cell_type": "markdown",
   "metadata": {},
   "source": [
    "# Exercises"
   ]
  },
  {
   "cell_type": "markdown",
   "metadata": {},
   "source": [
    "### Exercise #1 <br>\n",
    "<p>Reverse the list below in-place using an in-place algorithm.<br>For extra credit: Reverse the strings at the same time.</p>"
   ]
  },
  {
   "cell_type": "code",
   "execution_count": 70,
   "metadata": {},
   "outputs": [
    {
     "data": {
      "text/plain": [
       "['.', 'ecnetnes', 'a', 'si', 'siht']"
      ]
     },
     "execution_count": 70,
     "metadata": {},
     "output_type": "execute_result"
    }
   ],
   "source": [
    "words = ['this' , 'is', 'a', 'sentence', '.']\n",
    "\n",
    "def reverse(list_one):\n",
    "    left = 0\n",
    "    right = len(list_one) - 1\n",
    "    while left < right:\n",
    "        list_one[left], list_one[right] = list_one[right][::-1], list_one[left][::-1]\n",
    "        left += 1\n",
    "        right -= 1\n",
    "    return list_one\n",
    "        \n",
    "reverse(words)"
   ]
  },
  {
   "cell_type": "markdown",
   "metadata": {},
   "source": [
    "### Exercise #2 <br>\n",
    "<p>Create a function that counts how many distinct words are in the string below, then outputs a dictionary with the words as the key and the value as the amount of times that word appears in the string.<br>Should output:<br>{'a': 5,<br>\n",
    " 'abstract': 1,<br>\n",
    " 'an': 3,<br>\n",
    " 'array': 2, ... etc...</p>"
   ]
  },
  {
   "cell_type": "code",
   "execution_count": 16,
   "metadata": {},
   "outputs": [
    {
     "data": {
      "text/plain": [
       "[('a', 5),\n",
       " ('abstract', 1),\n",
       " ('an', 3),\n",
       " ('array', 2),\n",
       " ('associative', 1),\n",
       " ('be', 1),\n",
       " ('buckets', 1),\n",
       " ('can', 2),\n",
       " ('compute', 1),\n",
       " ('computing,', 1),\n",
       " ('data', 2),\n",
       " ('desired', 1),\n",
       " ('found', 1),\n",
       " ('from', 1),\n",
       " ('function', 1),\n",
       " ('hash', 4),\n",
       " ('implements', 1),\n",
       " ('in', 1),\n",
       " ('index', 1),\n",
       " ('into', 1),\n",
       " ('is', 1),\n",
       " ('keys', 1),\n",
       " ('map', 2),\n",
       " ('of', 1),\n",
       " ('or', 1),\n",
       " ('slots', 1),\n",
       " ('structure', 2),\n",
       " ('table', 2),\n",
       " ('that', 1),\n",
       " ('the', 1),\n",
       " ('to', 2),\n",
       " ('type,', 1),\n",
       " ('uses', 1),\n",
       " ('value', 1),\n",
       " ('values.', 1),\n",
       " ('which', 2)]"
      ]
     },
     "execution_count": 16,
     "metadata": {},
     "output_type": "execute_result"
    }
   ],
   "source": [
    "a_text = 'In computing, a hash table hash map is a data structure which implements an associative array abstract data type, a structure that can map keys to values. A hash table uses a hash function to compute an index into an array of buckets or slots from which the desired value can be found'\n",
    "\n",
    "def distinct_words(text):\n",
    "    words = text.lower().split()\n",
    "    word_count = {}\n",
    "    for x in words:\n",
    "        if x in word_count:\n",
    "            word_count[x] += 1\n",
    "        else:\n",
    "            word_count[x] = 1\n",
    "    return sorted(word_count.items())\n",
    "\n",
    "distinct_words(a_text)"
   ]
  },
  {
   "cell_type": "markdown",
   "metadata": {},
   "source": [
    "## Exercise #3\n",
    "\n",
    "Write a program to implement a Linear Search Algorithm. Also in a comment, write the Time Complexity of the following algorithm.\n",
    "\n",
    "#### Hint: Linear Searching will require searching a list for a given number. "
   ]
  },
  {
   "cell_type": "code",
   "execution_count": 67,
   "metadata": {},
   "outputs": [
    {
     "name": "stdout",
     "output_type": "stream",
     "text": [
      "Number 23 found at index 3\n",
      "Number 89 not found\n",
      "Number 31 found at index 5\n"
     ]
    }
   ],
   "source": [
    "random_list = [86, 98, 50, 23, 66, 31, 74, 84, 53, 64]\n",
    "\n",
    "def search(list_two, target):\n",
    "    for x in range(len(list_two)):\n",
    "        if list_two[x] == target:\n",
    "            return f\"Number {target} found at index {x}\"\n",
    "    else:\n",
    "        return f\"Number {target} not found\"\n",
    "        \n",
    "print(search(random_list, 23))\n",
    "print(search(random_list, 89))\n",
    "print(search(random_list, 31))"
   ]
  },
  {
   "cell_type": "code",
   "execution_count": null,
   "metadata": {},
   "outputs": [],
   "source": []
  }
 ],
 "metadata": {
  "kernelspec": {
   "display_name": "Python 3 (ipykernel)",
   "language": "python",
   "name": "python3"
  },
  "language_info": {
   "codemirror_mode": {
    "name": "ipython",
    "version": 3
   },
   "file_extension": ".py",
   "mimetype": "text/x-python",
   "name": "python",
   "nbconvert_exporter": "python",
   "pygments_lexer": "ipython3",
   "version": "3.10.9"
  }
 },
 "nbformat": 4,
 "nbformat_minor": 2
}
